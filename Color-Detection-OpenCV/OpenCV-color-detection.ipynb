{
 "cells": [
  {
   "cell_type": "markdown",
   "metadata": {},
   "source": [
    "# Color Detection\n",
    "\n",
    "This OpenCV project tends to identify different colors in the camera frame and highlight only the specified color.\n",
    "\n",
    "In this project we will catch and display red, green and blue colors in different frames from the camera. You can also implement this on a pre-recorded video."
   ]
  },
  {
   "cell_type": "code",
   "execution_count": 1,
   "metadata": {},
   "outputs": [],
   "source": [
    "# Importing the necessary modules\n",
    "import cv2\n",
    "import numpy as np"
   ]
  },
  {
   "cell_type": "markdown",
   "metadata": {},
   "source": [
    "### Creating a videocapture object\n",
    "It will help capture the video from camera\n",
    "\n",
    "This captured video (live) will be used to identify the colors"
   ]
  },
  {
   "cell_type": "code",
   "execution_count": 2,
   "metadata": {},
   "outputs": [],
   "source": [
    "# Creating the object\n",
    "cap = cv2.VideoCapture(0) # Entered 0 to capture live camera"
   ]
  },
  {
   "cell_type": "markdown",
   "metadata": {},
   "source": [
    "### Working of the Color Detector\n",
    "\n",
    "First we will run a while loop that will allow us to keep capturing the camera feed until we quit the program.\n",
    "\n",
    "Then we will catch the frame using read() method of class VideoCapture in OpenCV.\n",
    "\n",
    "##### Now, we start working for capturing colors in the frame. This is what we will do for each color:\n",
    "We will take lower and higher resolution of the color by passing desired HSV values in form of numpy array.\n",
    "\n",
    "Then we will create a mask that will only read the desired color (color with values between the high and low resolution that we decided) and nothing else and create a white mask for the same.\n",
    "\n",
    "Then we use bitwise and operator to display the same color which is being caught instead of white color in the frame.\n",
    "\n",
    "Once done for each color desired, we will display different frames for different colors.\n",
    "\n",
    "Also add the condition of termination in the end, so that the program doesn't go into infinite loop."
   ]
  },
  {
   "cell_type": "code",
   "execution_count": 3,
   "metadata": {},
   "outputs": [],
   "source": [
    "# We plan to distinguish 3 major colors in 3 different frames, red green and blue\n",
    "while True:\n",
    "    \n",
    "    # Start by capturing the frames\n",
    "    _, frame = cap.read()\n",
    "    # The frames are captured in BGR color scale. However, we need them in HSV, as HSV is closest to human perception\n",
    "    hsv_frame = cv2.cvtColor(frame, cv2.COLOR_BGR2HSV)\n",
    "    \n",
    "    # Detection of Red Color by setting resolution limit and masking out the colored frame\n",
    "    red_low = np.array([161, 155, 84])\n",
    "    red_high = np.array([179, 255, 255])\n",
    "    red_mask = cv2.inRange(hsv_frame, red_low, red_high)\n",
    "    red = cv2.bitwise_and(frame, frame, mask = red_mask)\n",
    "    \n",
    "    # Detection of Green Color by setting resolution limit and masking out the colored frame\n",
    "    green_low = np.array([25, 52, 72])\n",
    "    green_high = np.array([102, 255, 255])\n",
    "    green_mask = cv2.inRange(hsv_frame, green_low, green_high)\n",
    "    green = cv2.bitwise_and(frame, frame, mask = green_mask)\n",
    "    \n",
    "    # Detection of Blue Color by setting resolution limit and masking out the colored frame\n",
    "    blue_low = np.array([94, 80, 2])\n",
    "    blue_high = np.array([126, 255, 255])\n",
    "    blue_mask = cv2.inRange(hsv_frame, blue_low, blue_high)\n",
    "    blue = cv2.bitwise_and(frame, frame, mask = blue_mask)\n",
    "    \n",
    "    # Displaying all the frames with different specific colors along with the normal frame\n",
    "    cv2.imshow(\"Frame\", frame)\n",
    "    cv2.imshow(\"Red\", red)\n",
    "    cv2.imshow(\"Green\", green)\n",
    "    cv2.imshow(\"Blue\", blue)\n",
    "    \n",
    "    # Condition to terminate loop, release camera and close all the window frames (Esc key)\n",
    "    key = cv2.waitKey(1)\n",
    "    if key == 27:\n",
    "        cap.release()\n",
    "        cv2.destroyAllWindows()\n",
    "        break"
   ]
  },
  {
   "cell_type": "code",
   "execution_count": null,
   "metadata": {},
   "outputs": [],
   "source": []
  }
 ],
 "metadata": {
  "kernelspec": {
   "display_name": "Python 3",
   "language": "python",
   "name": "python3"
  },
  "language_info": {
   "codemirror_mode": {
    "name": "ipython",
    "version": 3
   },
   "file_extension": ".py",
   "mimetype": "text/x-python",
   "name": "python",
   "nbconvert_exporter": "python",
   "pygments_lexer": "ipython3",
   "version": "3.7.6"
  }
 },
 "nbformat": 4,
 "nbformat_minor": 4
}
