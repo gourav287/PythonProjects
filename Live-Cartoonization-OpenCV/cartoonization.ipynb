{
 "cells": [
  {
   "cell_type": "markdown",
   "metadata": {},
   "source": [
    "# Cartoonization\n",
    "\n",
    "This openCV project captures your camera and converts the normal frame into a cartoon.\n",
    "\n",
    "In this project, we will capture the image frame, and with the help of edge detection and blurr effect, we will create and display a cartoonized version of the frame being captured."
   ]
  },
  {
   "cell_type": "code",
   "execution_count": 1,
   "metadata": {},
   "outputs": [],
   "source": [
    "# Importing the necessary modules\n",
    "\n",
    "import cv2\n",
    "import numpy as np"
   ]
  },
  {
   "cell_type": "code",
   "execution_count": 2,
   "metadata": {},
   "outputs": [],
   "source": [
    "def cartooning(cap):\n",
    "    \n",
    "    _, frame = cap.read()\n",
    "    #cv2.imshow('frame', img_rgb)\n",
    "    \n",
    "    # Number of downsampling steps\n",
    "    num_down = 2\n",
    "    \n",
    "    # Number of bilateral filtering steps\n",
    "    num_bilateral = 7    \n",
    "    \n",
    "    # Resizing so that we get optimal output\n",
    "    img_rgb = cv2.resize(frame, (700, 700))\n",
    "    \n",
    "    # Using Gaussian pyramid to downsample the frame\n",
    "    img_color = img_rgb\n",
    "    for _ in range(num_down):\n",
    "        img_color = cv2.pyrDown(img_color)\n",
    "        \n",
    "    # Applying multiple small bilateral filters\n",
    "    for _ in range(num_bilateral):\n",
    "        img_color = cv2.bilateralFilter(img_color,\n",
    "                                        d = 9,\n",
    "                                        sigmaColor = 9,\n",
    "                                        sigmaSpace = 7)\n",
    "    \n",
    "    # upsampling the frame to it's original size\n",
    "    for _ in range(num_down):\n",
    "        img_color = cv2.pyrUp(img_color)\n",
    "    \n",
    "    # Converting image to from rgb colored to gray\n",
    "    img_gray = cv2.cvtColor(img_rgb, cv2.COLOR_RGB2GRAY)\n",
    "    \n",
    "    # Saving a blurred copy of frame using medianBlur operation\n",
    "    img_blur = cv2.medianBlur(img_gray, 7)\n",
    "    \n",
    "    img_edge = cv2.adaptiveThreshold(img_blur, 255,\n",
    "                                    cv2.ADAPTIVE_THRESH_MEAN_C,\n",
    "                                    cv2.THRESH_BINARY,\n",
    "                                    blockSize = 9,\n",
    "                                    C = 2)\n",
    "    \n",
    "    # Converting the operated gray image back to colored image\n",
    "    img_edge = cv2.cvtColor(img_edge, cv2.COLOR_GRAY2RGB)\n",
    "    \n",
    "    # Bitwise and operation will combine the separated edge frame and blurred frame\n",
    "    # This will result in the desired cartoon frame\n",
    "    img_cartoon = cv2.bitwise_and(img_color, img_edge)\n",
    "    \n",
    "    # hstack will let us display the original as well as cartoonized frames in a single window \n",
    "    stack = np.hstack([img_rgb, img_cartoon])\n",
    "    \n",
    "    # Displaying the stack\n",
    "    cv2.imshow('Stacked Images', stack)\n",
    "    \n",
    "    # return waitkey\n",
    "    return cv2.waitKey(1)"
   ]
  },
  {
   "cell_type": "code",
   "execution_count": 3,
   "metadata": {},
   "outputs": [],
   "source": [
    "# Creating the VideoCapture object for the camera\n",
    "cap = cv2.VideoCapture(0)\n",
    "\n",
    "while True:\n",
    "    \n",
    "    # Calling the cartooning function\n",
    "    key = cartooning(cap)\n",
    "    \n",
    "    # Quit if escape key is pressed\n",
    "    if key == 27:\n",
    "        \n",
    "        cap.release()\n",
    "        \n",
    "        cv2.destroyAllWindows()\n",
    "        \n",
    "        break"
   ]
  },
  {
   "cell_type": "code",
   "execution_count": null,
   "metadata": {},
   "outputs": [],
   "source": []
  }
 ],
 "metadata": {
  "kernelspec": {
   "display_name": "Python 3",
   "language": "python",
   "name": "python3"
  },
  "language_info": {
   "codemirror_mode": {
    "name": "ipython",
    "version": 3
   },
   "file_extension": ".py",
   "mimetype": "text/x-python",
   "name": "python",
   "nbconvert_exporter": "python",
   "pygments_lexer": "ipython3",
   "version": "3.8.3"
  }
 },
 "nbformat": 4,
 "nbformat_minor": 4
}
